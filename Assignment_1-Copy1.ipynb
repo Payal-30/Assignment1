{
 "cells": [
  {
   "cell_type": "code",
   "execution_count": 4,
   "id": "e7698c49-eb03-4021-a4e0-5d9e66f3414d",
   "metadata": {},
   "outputs": [
    {
     "name": "stdin",
     "output_type": "stream",
     "text": [
      "Enter number of days: 380\n"
     ]
    },
    {
     "name": "stdout",
     "output_type": "stream",
     "text": [
      "conversion is 1 / 2 / 1\n"
     ]
    }
   ],
   "source": [
    "### 1.Write a program to convert specified days into years, weeks and days.Take user input.\n",
    "\n",
    "\n",
    "days=int(input('Enter number of days:'))\n",
    "years=days//365\n",
    "rem_days=days%365\n",
    "weeks=rem_days//7\n",
    "days=rem_days%7\n",
    "print(\"conversion is\",years,\"/\",weeks,\"/\",days)"
   ]
  },
  {
   "cell_type": "code",
   "execution_count": 2,
   "id": "bbfff455-f231-4981-b1fc-03224c75d0af",
   "metadata": {},
   "outputs": [
    {
     "name": "stdin",
     "output_type": "stream",
     "text": [
      "Enter the basic salary: 9000\n"
     ]
    },
    {
     "name": "stdout",
     "output_type": "stream",
     "text": [
      "Gross salary of employee are= 18000.0\n"
     ]
    }
   ],
   "source": [
    " ''' 2. Write a Python program to input basiPython salary of an employee and\n",
    "calculate its Gross salary according to following:\n",
    "Basic Salary <= 10000 : HRA = 20%, DA = 80%\n",
    "Basic Salary <= 20000 : HRA = 30%, DA = 90%\n",
    "Basic Salary > 20000 : HRA = 35%, DA = 95%'''\n",
    "\n",
    "basic= float(input('Enter the basic salary:'))\n",
    "if basic <= 10000:\n",
    "    da=basic*0.8\n",
    "    hra=basic*0.2\n",
    "    gross=basic+da+hra\n",
    "elif basic <= 20000:\n",
    "    da=basic*0.9\n",
    "    hra=basic*0.95\n",
    "    gross=basic+da+hra\n",
    "else:\n",
    "    da=basic*0.95\n",
    "    hra=basic*0.3\n",
    "    gross=basic+da+hra\n",
    "\n",
    "print('Gross salary of employee are=',gross)"
   ]
  },
  {
   "cell_type": "code",
   "execution_count": 5,
   "id": "de1de11b-ef02-4a78-a018-633a7c56480d",
   "metadata": {},
   "outputs": [
    {
     "name": "stdin",
     "output_type": "stream",
     "text": [
      "Enter the number of units: 56\n"
     ]
    },
    {
     "name": "stdout",
     "output_type": "stream",
     "text": [
      "total bill after adding surcharge are= 34.515\n"
     ]
    }
   ],
   "source": [
    "'''3. Write a Python program to input electricity unit charges and calculate total\n",
    "electricity bill according to the given condition:\n",
    "For first 50 units Rs. 0.50/unit\n",
    "For next 100 units Rs. 0.75/unit\n",
    "For next 100 units Rs. 1.25/unit\n",
    "For unit above 250 Rs. 1.50/unit\n",
    "An additional surcharge of 17% is added to the bill\n",
    "'''\n",
    "\n",
    "units=int(input('Enter the number of units:'))\n",
    "if units <=50:\n",
    "    bill= (50*0.50)\n",
    "elif units <=150:\n",
    "    bill= (50*0.50) +(units-50)* 0.75\n",
    "elif units <=250:\n",
    "    bill= (50*0.50) +(100*0.75)+(units-150)*1.25\n",
    "else:\n",
    "    bill= (50*0.50) +(100*0.75)+(100*1.25)+(units-250)*1.50\n",
    "\n",
    "surcharge=bill*0.17\n",
    "total_bill=bill+surcharge\n",
    "\n",
    "print('total bill after adding surcharge are=',total_bill)"
   ]
  },
  {
   "cell_type": "code",
   "execution_count": 13,
   "id": "5f93c8f6-074d-4ae8-8334-9d468171daf0",
   "metadata": {},
   "outputs": [
    {
     "name": "stdin",
     "output_type": "stream",
     "text": [
      "enter number of rows: 5\n"
     ]
    },
    {
     "name": "stdout",
     "output_type": "stream",
     "text": [
      "\n",
      "1 \n",
      "2 2 \n",
      "3 3 3 \n",
      "4 4 4 4 \n",
      "5 5 5 5 5 \n"
     ]
    }
   ],
   "source": [
    "### 4.Write a Python program to print the given number patterns.\n",
    "\n",
    "\n",
    "rows=int(input('enter number of rows:'))\n",
    "for n in range(rows+1):\n",
    "    for i in range(n):\n",
    "        print(n, end=\" \")\n",
    "    print()\n",
    "    "
   ]
  },
  {
   "cell_type": "code",
   "execution_count": 16,
   "id": "46e29830-8216-4427-967b-9d128c3cde8e",
   "metadata": {},
   "outputs": [
    {
     "name": "stdin",
     "output_type": "stream",
     "text": [
      "Enter the number: 78\n"
     ]
    },
    {
     "name": "stdout",
     "output_type": "stream",
     "text": [
      "product of digits of a number are = 56\n"
     ]
    }
   ],
   "source": [
    "###  5. Write a Python program to calculate product of digits of a number. Read value from user.\n",
    "\n",
    "num=int(input('Enter the number:'))\n",
    "product=1\n",
    "while num!=0:\n",
    "    rem=num%10\n",
    "    product=product*rem\n",
    "    num=num//10\n",
    "print(\"product of digits of a number are =\", product)\n"
   ]
  },
  {
   "cell_type": "code",
   "execution_count": 7,
   "id": "0635b95b-680f-42fc-9328-3d7adc85d11f",
   "metadata": {},
   "outputs": [
    {
     "data": {
      "text/plain": [
       "[45, 67, 12, 'Hello', 23.45, 'World']"
      ]
     },
     "execution_count": 7,
     "metadata": {},
     "output_type": "execute_result"
    }
   ],
   "source": [
    "### 6.Create a list of elements like: x = [45, 67, 12, ‘Hello’, 23.45, ‘World’] and perform following operation\n",
    "\n",
    "x=[45,67,12,'Hello',23.45,'World']\n",
    "x"
   ]
  },
  {
   "cell_type": "code",
   "execution_count": 8,
   "id": "7c4c8a0b-f506-4157-a5b4-ef0f9455135a",
   "metadata": {},
   "outputs": [
    {
     "data": {
      "text/plain": [
       "['Hello', 'World']"
      ]
     },
     "execution_count": 8,
     "metadata": {},
     "output_type": "execute_result"
    }
   ],
   "source": [
    "# 1. Extract only string values from this list.\n",
    "\n",
    "x[3:6:2]\n"
   ]
  },
  {
   "cell_type": "code",
   "execution_count": 9,
   "id": "2bc0dcd5-e632-4930-a9b8-8a99caf2b7d5",
   "metadata": {},
   "outputs": [
    {
     "data": {
      "text/plain": [
       "['PAYAL',\n",
       " 'SONAL',\n",
       " 'SARTHAK',\n",
       " 'SHUBHANGI',\n",
       " 'SUHANI',\n",
       " 'VAISHNAVI',\n",
       " 'AARYA',\n",
       " 'SHUBHAM']"
      ]
     },
     "execution_count": 9,
     "metadata": {},
     "output_type": "execute_result"
    }
   ],
   "source": [
    "# 2. Create a new list with strings in upper case.\n",
    "names=['Payal','Sonal','Sarthak','Shubhangi','Suhani','Vaishnavi','aarya','shubham']\n",
    "[n.upper() for n in names ]"
   ]
  },
  {
   "cell_type": "code",
   "execution_count": 10,
   "id": "106b949b-b8df-4906-a93c-553af834d513",
   "metadata": {},
   "outputs": [
    {
     "data": {
      "text/plain": [
       "[45, 67, 12, 'Hello', 23.45, 'World']"
      ]
     },
     "execution_count": 10,
     "metadata": {},
     "output_type": "execute_result"
    }
   ],
   "source": [
    "x"
   ]
  },
  {
   "cell_type": "code",
   "execution_count": 11,
   "id": "44593319-ec51-4a74-8520-6765b01909bb",
   "metadata": {},
   "outputs": [
    {
     "name": "stdout",
     "output_type": "stream",
     "text": [
      "124\n"
     ]
    }
   ],
   "source": [
    "# 3. Find the addition of integer values\n",
    "\n",
    "int_sum= sum(n for n in x if isinstance(n,int))\n",
    "print(int_sum)"
   ]
  },
  {
   "cell_type": "code",
   "execution_count": 7,
   "id": "d8e3f3e3-16b1-47da-b48f-3293716594b7",
   "metadata": {},
   "outputs": [
    {
     "data": {
      "text/plain": [
       "[45, 67, 12, 'Hello', 23.45, 'World']"
      ]
     },
     "execution_count": 7,
     "metadata": {},
     "output_type": "execute_result"
    }
   ],
   "source": [
    "#4. Check that the value 56 is present in it or not.\n",
    "\n",
    "x"
   ]
  },
  {
   "cell_type": "code",
   "execution_count": 8,
   "id": "0462d61c-1385-4284-93c6-f3921e289b87",
   "metadata": {},
   "outputs": [
    {
     "data": {
      "text/plain": [
       "False"
      ]
     },
     "execution_count": 8,
     "metadata": {},
     "output_type": "execute_result"
    }
   ],
   "source": [
    "56 in x"
   ]
  },
  {
   "cell_type": "code",
   "execution_count": 11,
   "id": "1ac3cf2c-ffdb-41e6-8166-ef87d4ed8b22",
   "metadata": {},
   "outputs": [],
   "source": [
    "#5. Print the list in reverse order.\n",
    "\n",
    "x.reverse()"
   ]
  },
  {
   "cell_type": "code",
   "execution_count": 12,
   "id": "447b8eab-2cf1-46c9-81ab-a877c15a3d7f",
   "metadata": {},
   "outputs": [
    {
     "data": {
      "text/plain": [
       "['World', 23.45, 'Hello', 12, 67, 45]"
      ]
     },
     "execution_count": 12,
     "metadata": {},
     "output_type": "execute_result"
    }
   ],
   "source": [
    "x"
   ]
  },
  {
   "cell_type": "code",
   "execution_count": 13,
   "id": "7fe20d1b-71af-4807-9621-67a5f7a99fd5",
   "metadata": {},
   "outputs": [],
   "source": [
    "#6. Delete the string ‘Hello’ from it.\n",
    "\n",
    "x.remove('Hello')"
   ]
  },
  {
   "cell_type": "code",
   "execution_count": 14,
   "id": "a7371cd1-01c8-424e-8dfa-7875b6d1429d",
   "metadata": {},
   "outputs": [
    {
     "data": {
      "text/plain": [
       "['World', 23.45, 12, 67, 45]"
      ]
     },
     "execution_count": 14,
     "metadata": {},
     "output_type": "execute_result"
    }
   ],
   "source": [
    "x"
   ]
  },
  {
   "cell_type": "code",
   "execution_count": 15,
   "id": "f65ba20f-3a14-4536-a401-56f0d0273b27",
   "metadata": {},
   "outputs": [],
   "source": [
    "#7. Insert a new value of 36 at 5th position in list.\n",
    "\n",
    "x.insert(5,36)"
   ]
  },
  {
   "cell_type": "code",
   "execution_count": 16,
   "id": "223d8922-213d-4900-8dbc-6ee1ed808b4a",
   "metadata": {},
   "outputs": [
    {
     "data": {
      "text/plain": [
       "['World', 23.45, 12, 67, 45, 36]"
      ]
     },
     "execution_count": 16,
     "metadata": {},
     "output_type": "execute_result"
    }
   ],
   "source": [
    "x"
   ]
  },
  {
   "cell_type": "code",
   "execution_count": 20,
   "id": "991a4564-c48f-4b10-9022-ec4c74eeedf1",
   "metadata": {},
   "outputs": [
    {
     "data": {
      "text/plain": [
       "6"
      ]
     },
     "execution_count": 20,
     "metadata": {},
     "output_type": "execute_result"
    }
   ],
   "source": [
    "#8. Count total number of elements in list now.\n",
    "\n",
    "len(x)"
   ]
  },
  {
   "cell_type": "code",
   "execution_count": 21,
   "id": "3ea66e70-414f-423e-a6df-eec385b2ff5a",
   "metadata": {},
   "outputs": [
    {
     "data": {
      "text/plain": [
       "[12, 67, 45, 36]"
      ]
     },
     "execution_count": 21,
     "metadata": {},
     "output_type": "execute_result"
    }
   ],
   "source": [
    "#9. Extract the values from 2nd index to 5th index.\n",
    "\n",
    "x[2:6]"
   ]
  },
  {
   "cell_type": "code",
   "execution_count": 24,
   "id": "62e5d91c-1d7d-485c-a7c1-a63a2bde685c",
   "metadata": {},
   "outputs": [],
   "source": [
    "#10. Append [34, ‘Pune’] to this list.\n",
    "\n",
    "x.append([34,'Pune'])"
   ]
  },
  {
   "cell_type": "code",
   "execution_count": 25,
   "id": "6dc2b1c8-185e-4ec1-bfaa-d44ce3be09ca",
   "metadata": {},
   "outputs": [
    {
     "data": {
      "text/plain": [
       "['World', 23.45, 12, 67, 45, 36, [34, 'Pune']]"
      ]
     },
     "execution_count": 25,
     "metadata": {},
     "output_type": "execute_result"
    }
   ],
   "source": [
    "x"
   ]
  },
  {
   "cell_type": "code",
   "execution_count": 27,
   "id": "47527976-5cab-4bbb-921b-6435f74870e8",
   "metadata": {},
   "outputs": [
    {
     "data": {
      "text/plain": [
       "['World', 23.45, 12, 67, 45, 36]"
      ]
     },
     "execution_count": 27,
     "metadata": {},
     "output_type": "execute_result"
    }
   ],
   "source": [
    "#11. Delete the last element from list.\n",
    "\n",
    "del x[6]\n",
    "x"
   ]
  },
  {
   "cell_type": "code",
   "execution_count": 31,
   "id": "17fcf542-c733-4ee8-aff4-310cd1e9abae",
   "metadata": {},
   "outputs": [
    {
     "data": {
      "text/plain": [
       "(11.2, 45.9, 34.8, 23.7, 12.6)"
      ]
     },
     "execution_count": 31,
     "metadata": {},
     "output_type": "execute_result"
    }
   ],
   "source": [
    "###7. Create a tuple of elements with 5 float values in it and perform following operations\n",
    "\n",
    "t=(11.2,45.9,34.8,23.7,12.6)\n",
    "t"
   ]
  },
  {
   "cell_type": "code",
   "execution_count": 36,
   "id": "5be16095-ed2a-4c37-a950-d1e9514b5fdb",
   "metadata": {},
   "outputs": [
    {
     "name": "stdout",
     "output_type": "stream",
     "text": [
      "[11.2, 12.6, 23.7, 34.8, 45.9]\n"
     ]
    }
   ],
   "source": [
    "#1. Print the data in sorted manner.\n",
    "\n",
    "def sort(t):\n",
    "    return sorted(t)\n",
    "\n",
    "print(sort(t))"
   ]
  },
  {
   "cell_type": "code",
   "execution_count": 38,
   "id": "1ba1b856-8fad-4792-b171-3a071e612ba3",
   "metadata": {},
   "outputs": [
    {
     "data": {
      "text/plain": [
       "False"
      ]
     },
     "execution_count": 38,
     "metadata": {},
     "output_type": "execute_result"
    }
   ],
   "source": [
    "#2. Check to see that the element 50 is present in it.\n",
    "\n",
    "50 in t"
   ]
  },
  {
   "cell_type": "code",
   "execution_count": 39,
   "id": "1b772cfb-9ab8-4137-bee8-31416959b665",
   "metadata": {},
   "outputs": [],
   "source": [
    "#3. Convert this tuple in set.\n",
    "\n",
    "m=set(t)"
   ]
  },
  {
   "cell_type": "code",
   "execution_count": 40,
   "id": "99a2a9a8-b2f8-458c-828f-127ad25e3508",
   "metadata": {},
   "outputs": [
    {
     "data": {
      "text/plain": [
       "{11.2, 12.6, 23.7, 34.8, 45.9}"
      ]
     },
     "execution_count": 40,
     "metadata": {},
     "output_type": "execute_result"
    }
   ],
   "source": [
    "m"
   ]
  },
  {
   "cell_type": "code",
   "execution_count": 45,
   "id": "4624ac7d-8953-48ff-8923-1870ff84d560",
   "metadata": {},
   "outputs": [
    {
     "data": {
      "text/plain": [
       "{'a': 'apple', 'b': 'ball', 'c': 'cat', 'd': 'doll', 'k': 'king'}"
      ]
     },
     "execution_count": 45,
     "metadata": {},
     "output_type": "execute_result"
    }
   ],
   "source": [
    "###8. Create a dictionary of elements: {‘a’: ‘apple’, ‘b’: ‘ball’, ‘c’: ‘cat’, ‘d’: ‘doll’, ‘k’:‘king’} and ,perform following operations.  \n",
    "\n",
    "d={ 'a':'apple', 'b': 'ball', 'c': 'cat', 'd': 'doll', 'k':'king'} \n",
    "d"
   ]
  },
  {
   "cell_type": "code",
   "execution_count": 46,
   "id": "746239d4-e4fe-46d5-a318-2c448dfeeb20",
   "metadata": {},
   "outputs": [
    {
     "data": {
      "text/plain": [
       "'king'"
      ]
     },
     "execution_count": 46,
     "metadata": {},
     "output_type": "execute_result"
    }
   ],
   "source": [
    "#1. Access the data at key ‘k’.\n",
    "\n",
    "d['k']"
   ]
  },
  {
   "cell_type": "code",
   "execution_count": 48,
   "id": "51db34ad-2303-4853-8354-01cc754ab7c2",
   "metadata": {},
   "outputs": [
    {
     "data": {
      "text/plain": [
       "{'a': 'apple', 'b': 'ball', 'c': 'cat', 'd': 'doll', 'k': 'king', 'z': 'zebra'}"
      ]
     },
     "execution_count": 48,
     "metadata": {},
     "output_type": "execute_result"
    }
   ],
   "source": [
    "#2. Add a new values ‘z’: ‘zebra’\n",
    "\n",
    "d['z']='zebra'\n",
    "d"
   ]
  },
  {
   "cell_type": "code",
   "execution_count": 49,
   "id": "877c3882-19c0-494d-91ed-ed074d0439d3",
   "metadata": {},
   "outputs": [],
   "source": [
    "#3. Replace the contents of ‘d’ as ‘dog’\n",
    "\n",
    "d['d']='dog'"
   ]
  },
  {
   "cell_type": "code",
   "execution_count": 50,
   "id": "ca915e0b-1eea-41ce-a623-ef934481b5d8",
   "metadata": {},
   "outputs": [
    {
     "data": {
      "text/plain": [
       "{'a': 'apple', 'b': 'ball', 'c': 'cat', 'd': 'dog', 'k': 'king', 'z': 'zebra'}"
      ]
     },
     "execution_count": 50,
     "metadata": {},
     "output_type": "execute_result"
    }
   ],
   "source": [
    "d"
   ]
  },
  {
   "cell_type": "code",
   "execution_count": 51,
   "id": "715c1a8a-c55b-4e93-a007-9831aa0d8fd0",
   "metadata": {},
   "outputs": [
    {
     "data": {
      "text/plain": [
       "dict_values(['apple', 'ball', 'cat', 'dog', 'king', 'zebra'])"
      ]
     },
     "execution_count": 51,
     "metadata": {},
     "output_type": "execute_result"
    }
   ],
   "source": [
    "#4. Print all the values from this dictionary.\n",
    "\n",
    "d.values()"
   ]
  },
  {
   "cell_type": "code",
   "execution_count": 52,
   "id": "d99818ab-56c5-4d98-8be7-65994542f77c",
   "metadata": {},
   "outputs": [
    {
     "data": {
      "text/plain": [
       "6"
      ]
     },
     "execution_count": 52,
     "metadata": {},
     "output_type": "execute_result"
    }
   ],
   "source": [
    "#5. Find the length of this dictionary.\n",
    "\n",
    "len(d)"
   ]
  },
  {
   "cell_type": "code",
   "execution_count": 19,
   "id": "9898a2df-1fe5-4b04-96be-433db527b5a5",
   "metadata": {},
   "outputs": [
    {
     "name": "stdout",
     "output_type": "stream",
     "text": [
      "[99, 90, 78, 67, 45, 34, 23, 12]\n",
      "Second largest number is: 90\n"
     ]
    }
   ],
   "source": [
    "### 9. Write a program to find the second largest element in a list.\n",
    "\n",
    "l1=[23,78,45,34,12,90,67,99]\n",
    "l2=sorted(l1, reverse=True)\n",
    "print(l2)\n",
    "second_largest=l2[1]\n",
    "print('Second largest number is:',second_largest)"
   ]
  },
  {
   "cell_type": "code",
   "execution_count": 18,
   "id": "ed2dfdd5-5c7f-4684-b8a6-b0d955820630",
   "metadata": {},
   "outputs": [
    {
     "name": "stdout",
     "output_type": "stream",
     "text": [
      "['silver', 'gold', 'platinum', 'iron', 'aluminium']\n"
     ]
    }
   ],
   "source": [
    "'''10. This is a list of some metallic elements.\n",
    "metals = [ 'silver','gold', ... ]\n",
    "Make a new list that is almost identical to the metals list: the new\n",
    "contains the same items, in the same order, except that it does NOT\n",
    "contain the item 'copper'''\n",
    "\n",
    "metals =[\"silver\",\"gold\",\"platinum\",\"copper\",\"iron\",\"aluminium\"]\n",
    "metals1 =[]\n",
    "for n in metals:\n",
    "    if n!= \"copper\":\n",
    "        metals1.append(n)\n",
    "\n",
    "print(metals1)"
   ]
  },
  {
   "cell_type": "code",
   "execution_count": null,
   "id": "803fb282-3205-4cd1-b54a-f655d23d31e0",
   "metadata": {},
   "outputs": [],
   "source": []
  }
 ],
 "metadata": {
  "kernelspec": {
   "display_name": "Python 3 (ipykernel)",
   "language": "python",
   "name": "python3"
  },
  "language_info": {
   "codemirror_mode": {
    "name": "ipython",
    "version": 3
   },
   "file_extension": ".py",
   "mimetype": "text/x-python",
   "name": "python",
   "nbconvert_exporter": "python",
   "pygments_lexer": "ipython3",
   "version": "3.11.7"
  }
 },
 "nbformat": 4,
 "nbformat_minor": 5
}
