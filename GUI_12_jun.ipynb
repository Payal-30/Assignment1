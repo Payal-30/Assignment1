{
 "cells": [
  {
   "cell_type": "code",
   "execution_count": 2,
   "id": "25bd7d01-aaee-43fc-b6f5-2c1cd64fb3da",
   "metadata": {},
   "outputs": [],
   "source": [
    "import tkinter as tk"
   ]
  },
  {
   "cell_type": "code",
   "execution_count": 5,
   "id": "e11025a1-9679-4c4d-b6e6-d1a4a9d4bda3",
   "metadata": {},
   "outputs": [
    {
     "ename": "NameError",
     "evalue": "name 'Combobox' is not defined",
     "output_type": "error",
     "traceback": [
      "\u001b[1;31m---------------------------------------------------------------------------\u001b[0m",
      "\u001b[1;31mNameError\u001b[0m                                 Traceback (most recent call last)",
      "Cell \u001b[1;32mIn[5], line 11\u001b[0m\n\u001b[0;32m      8\u001b[0m l1\u001b[38;5;241m=\u001b[39mtk\u001b[38;5;241m.\u001b[39mLabel(top,text\u001b[38;5;241m=\u001b[39m\u001b[38;5;124m'\u001b[39m\u001b[38;5;124mwelcome\u001b[39m\u001b[38;5;124m'\u001b[39m, font\u001b[38;5;241m=\u001b[39m(\u001b[38;5;124m'\u001b[39m\u001b[38;5;124mAriel Bold\u001b[39m\u001b[38;5;124m'\u001b[39m,\u001b[38;5;241m50\u001b[39m))\u001b[38;5;241m.\u001b[39mpack()\n\u001b[0;32m     10\u001b[0m \u001b[38;5;66;03m# combo box\u001b[39;00m\n\u001b[1;32m---> 11\u001b[0m combo\u001b[38;5;241m=\u001b[39mCombobox(top)\n\u001b[0;32m     12\u001b[0m combo[\u001b[38;5;124m'\u001b[39m\u001b[38;5;124mvalues\u001b[39m\u001b[38;5;124m'\u001b[39m]\u001b[38;5;241m=\u001b[39m[\u001b[38;5;241m1\u001b[39m,\u001b[38;5;241m2\u001b[39m,\u001b[38;5;241m3\u001b[39m,\u001b[38;5;241m4\u001b[39m,\u001b[38;5;124m'\u001b[39m\u001b[38;5;124mnext\u001b[39m\u001b[38;5;124m'\u001b[39m]\n\u001b[0;32m     13\u001b[0m combo\u001b[38;5;241m.\u001b[39mcurrent(\u001b[38;5;241m2\u001b[39m)\n",
      "\u001b[1;31mNameError\u001b[0m: name 'Combobox' is not defined"
     ]
    }
   ],
   "source": [
    "top=tk.Tk()\n",
    "\n",
    "top.title('My Application')\n",
    "\n",
    "b1=tk.Button(top,text= 'click me!', bg='orange').pack()\n",
    "e1=tk.Entry(top).pack()\n",
    "t1=tk.Text(top).pack()\n",
    "l1=tk.Label(top,text='welcome', font=('Ariel Bold',50)).pack()\n",
    "\n",
    "# combo box\n",
    "combo= Combobox(top)\n",
    "combo['values']=[1,2,3,4,'next']\n",
    "combo.current(2)\n",
    "combo.grid(column=0,row=0)\n",
    "\n",
    "top.mainloop()"
   ]
  },
  {
   "cell_type": "code",
   "execution_count": null,
   "id": "7271a478-641a-4503-a72c-fe44cd548844",
   "metadata": {},
   "outputs": [],
   "source": []
  },
  {
   "cell_type": "code",
   "execution_count": null,
   "id": "4914be07-6ab1-41cb-9fd3-841efa985e66",
   "metadata": {},
   "outputs": [],
   "source": []
  }
 ],
 "metadata": {
  "kernelspec": {
   "display_name": "Python 3 (ipykernel)",
   "language": "python",
   "name": "python3"
  },
  "language_info": {
   "codemirror_mode": {
    "name": "ipython",
    "version": 3
   },
   "file_extension": ".py",
   "mimetype": "text/x-python",
   "name": "python",
   "nbconvert_exporter": "python",
   "pygments_lexer": "ipython3",
   "version": "3.11.7"
  }
 },
 "nbformat": 4,
 "nbformat_minor": 5
}
