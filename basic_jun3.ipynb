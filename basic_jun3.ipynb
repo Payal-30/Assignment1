{
 "cells": [
  {
   "cell_type": "code",
   "execution_count": 1,
   "id": "5cdcf9fd-2bd4-45fc-b702-d8ef436cad4a",
   "metadata": {},
   "outputs": [
    {
     "name": "stdout",
     "output_type": "stream",
     "text": [
      "hello world\n"
     ]
    }
   ],
   "source": [
    "print(\"hello world\")  "
   ]
  },
  {
   "cell_type": "markdown",
   "id": "dd7621cd-d64a-4287-9681-654974874c99",
   "metadata": {},
   "source": [
    "num=10"
   ]
  },
  {
   "cell_type": "code",
   "execution_count": 3,
   "id": "e1ea399b-cc42-460a-b1f2-093cc2b214ac",
   "metadata": {},
   "outputs": [
    {
     "name": "stdout",
     "output_type": "stream",
     "text": [
      "10\n"
     ]
    }
   ],
   "source": [
    "num1=10\n",
    "print(num1)"
   ]
  },
  {
   "cell_type": "code",
   "execution_count": 4,
   "id": "771e4160-7998-45e9-9b48-6f74f731caec",
   "metadata": {},
   "outputs": [
    {
     "name": "stdout",
     "output_type": "stream",
     "text": [
      "payal\n"
     ]
    }
   ],
   "source": [
    "num2=\"payal\"\n",
    "print(num2)"
   ]
  },
  {
   "cell_type": "code",
   "execution_count": 5,
   "id": "d60774b4-19e7-4ecf-ae27-fd1d7898726c",
   "metadata": {},
   "outputs": [
    {
     "data": {
      "text/plain": [
       "str"
      ]
     },
     "execution_count": 5,
     "metadata": {},
     "output_type": "execute_result"
    }
   ],
   "source": [
    "type(num2)"
   ]
  },
  {
   "cell_type": "code",
   "execution_count": 2,
   "id": "f8a1563e-5af6-45ee-a8c8-1b93acc89b0e",
   "metadata": {},
   "outputs": [
    {
     "name": "stdout",
     "output_type": "stream",
     "text": [
      "I like 'python' programming\n"
     ]
    }
   ],
   "source": [
    "sent= \"I like 'python' programming\"\n",
    "print(sent)"
   ]
  },
  {
   "cell_type": "code",
   "execution_count": 7,
   "id": "e0706dc6-e028-43eb-938c-b4b510b1dbeb",
   "metadata": {},
   "outputs": [
    {
     "data": {
      "text/plain": [
       "False"
      ]
     },
     "execution_count": 7,
     "metadata": {},
     "output_type": "execute_result"
    }
   ],
   "source": [
    "data = 'Payal123'\n",
    "data.isalpha()"
   ]
  },
  {
   "cell_type": "code",
   "execution_count": 2,
   "id": "13df0079-cad1-4ceb-98ab-fe0670f1c446",
   "metadata": {},
   "outputs": [
    {
     "ename": "AttributeError",
     "evalue": "'str' object has no attribute 'isnum'",
     "output_type": "error",
     "traceback": [
      "\u001b[1;31m---------------------------------------------------------------------------\u001b[0m",
      "\u001b[1;31mAttributeError\u001b[0m                            Traceback (most recent call last)",
      "Cell \u001b[1;32mIn[2], line 1\u001b[0m\n\u001b[1;32m----> 1\u001b[0m data\u001b[38;5;241m.\u001b[39misnum()\n",
      "\u001b[1;31mAttributeError\u001b[0m: 'str' object has no attribute 'isnum'"
     ]
    }
   ],
   "source": [
    "data.isnum()"
   ]
  },
  {
   "cell_type": "code",
   "execution_count": 3,
   "id": "aa976d28-90b9-4a55-a827-d94e681c80b0",
   "metadata": {},
   "outputs": [
    {
     "data": {
      "text/plain": [
       "False"
      ]
     },
     "execution_count": 3,
     "metadata": {},
     "output_type": "execute_result"
    }
   ],
   "source": [
    "data.isdigit()"
   ]
  },
  {
   "cell_type": "code",
   "execution_count": 4,
   "id": "4fa4efff-c8d6-4b00-969d-1570d8bd143c",
   "metadata": {},
   "outputs": [
    {
     "data": {
      "text/plain": [
       "True"
      ]
     },
     "execution_count": 4,
     "metadata": {},
     "output_type": "execute_result"
    }
   ],
   "source": [
    "data.isalnum()"
   ]
  },
  {
   "cell_type": "code",
   "execution_count": 8,
   "id": "3d07cab7-91fe-47ff-890d-dec7cd1c2a14",
   "metadata": {},
   "outputs": [
    {
     "data": {
      "text/plain": [
       "1"
      ]
     },
     "execution_count": 8,
     "metadata": {},
     "output_type": "execute_result"
    }
   ],
   "source": [
    "num1='payal'\n",
    "num1.find('a')"
   ]
  },
  {
   "cell_type": "code",
   "execution_count": 11,
   "id": "598fc9c0-2dcb-4f7f-924d-996ba2d704aa",
   "metadata": {},
   "outputs": [
    {
     "name": "stdout",
     "output_type": "stream",
     "text": [
      "my name is ' riya and marks is  72\n"
     ]
    }
   ],
   "source": [
    "name='riya'\n",
    "marks=72\n",
    "print(\"my name is '\",name, \"and marks is \",marks)"
   ]
  },
  {
   "cell_type": "code",
   "execution_count": 18,
   "id": "d2d9646c-b600-4368-b821-8b8964514c17",
   "metadata": {},
   "outputs": [
    {
     "name": "stdout",
     "output_type": "stream",
     "text": [
      "riya\t72\tpune\n"
     ]
    }
   ],
   "source": [
    "city='pune'\n",
    "print(name,marks,city ,sep='\\t')"
   ]
  },
  {
   "cell_type": "code",
   "execution_count": 19,
   "id": "1c49b9f9-9e56-451b-9317-d0f7656a98d1",
   "metadata": {},
   "outputs": [
    {
     "data": {
      "text/plain": [
       "166"
      ]
     },
     "execution_count": 19,
     "metadata": {},
     "output_type": "execute_result"
    }
   ],
   "source": [
    "n1=90\n",
    "n2=76\n",
    "n1+n2"
   ]
  },
  {
   "cell_type": "code",
   "execution_count": 20,
   "id": "161d48f4-833d-4493-978c-033278d299e4",
   "metadata": {},
   "outputs": [
    {
     "data": {
      "text/plain": [
       "6840"
      ]
     },
     "execution_count": 20,
     "metadata": {},
     "output_type": "execute_result"
    }
   ],
   "source": [
    "n1*n2"
   ]
  },
  {
   "cell_type": "code",
   "execution_count": 21,
   "id": "a54bdf95-7bd7-4979-8bca-bc3bcafe3eba",
   "metadata": {},
   "outputs": [
    {
     "data": {
      "text/plain": [
       "1.1842105263157894"
      ]
     },
     "execution_count": 21,
     "metadata": {},
     "output_type": "execute_result"
    }
   ],
   "source": [
    "n1/n2"
   ]
  },
  {
   "cell_type": "code",
   "execution_count": 22,
   "id": "c778241b-dcfa-4800-be64-713d53fb8799",
   "metadata": {},
   "outputs": [
    {
     "data": {
      "text/plain": [
       "1"
      ]
     },
     "execution_count": 22,
     "metadata": {},
     "output_type": "execute_result"
    }
   ],
   "source": [
    "n1//n2"
   ]
  },
  {
   "cell_type": "code",
   "execution_count": 23,
   "id": "ae38f0ef-fb2d-4a39-9657-4fba786ce3ff",
   "metadata": {},
   "outputs": [],
   "source": [
    "####logical operators"
   ]
  },
  {
   "cell_type": "code",
   "execution_count": 30,
   "id": "fe129d99-0483-4c86-95e6-85024ac3042a",
   "metadata": {},
   "outputs": [
    {
     "ename": "SyntaxError",
     "evalue": "invalid syntax (25058582.py, line 2)",
     "output_type": "error",
     "traceback": [
      "\u001b[1;36m  Cell \u001b[1;32mIn[30], line 2\u001b[1;36m\u001b[0m\n\u001b[1;33m    pass=72\u001b[0m\n\u001b[1;37m        ^\u001b[0m\n\u001b[1;31mSyntaxError\u001b[0m\u001b[1;31m:\u001b[0m invalid syntax\n"
     ]
    }
   ],
   "source": [
    "name='aman'\n",
    "pass=72\n",
    "p=name+str(pass)\n",
    "print(p)"
   ]
  },
  {
   "cell_type": "code",
   "execution_count": 33,
   "id": "a8b2eb5d-53af-4d94-9f0b-e7febe0bf025",
   "metadata": {},
   "outputs": [
    {
     "name": "stdin",
     "output_type": "stream",
     "text": [
      "1st number 12\n",
      "2nd number 78\n"
     ]
    },
    {
     "name": "stdout",
     "output_type": "stream",
     "text": [
      "90\n"
     ]
    }
   ],
   "source": [
    "n1=int(input('1st number'))\n",
    "n2=int(input('2nd number'))\n",
    "add=n1+n2\n",
    "print(add)"
   ]
  },
  {
   "cell_type": "code",
   "execution_count": 35,
   "id": "7bcc1e1a-8e78-4d64-af98-bb5ef5258946",
   "metadata": {},
   "outputs": [
    {
     "name": "stdin",
     "output_type": "stream",
     "text": [
      "take base 12\n",
      "take height 5\n"
     ]
    },
    {
     "name": "stdout",
     "output_type": "stream",
     "text": [
      "30.0\n"
     ]
    }
   ],
   "source": [
    "in1=int(input('take base'))\n",
    "in2=int(input('take height'))\n",
    "result=0.5*in1*in2\n",
    "print(result)"
   ]
  },
  {
   "cell_type": "code",
   "execution_count": 38,
   "id": "664e4942-6605-4331-8dc6-a8b898187015",
   "metadata": {},
   "outputs": [
    {
     "name": "stdin",
     "output_type": "stream",
     "text": [
      "enter seconds 3665\n"
     ]
    },
    {
     "name": "stdout",
     "output_type": "stream",
     "text": [
      "0.9822646657571623\n"
     ]
    }
   ],
   "source": [
    "sec=int(input('enter seconds'))\n",
    "hours=3600/sec\n",
    "print(hours)"
   ]
  },
  {
   "cell_type": "code",
   "execution_count": null,
   "id": "ea0a0f07-01bc-42a2-885e-9f921118eb4a",
   "metadata": {},
   "outputs": [],
   "source": []
  }
 ],
 "metadata": {
  "kernelspec": {
   "display_name": "Python 3 (ipykernel)",
   "language": "python",
   "name": "python3"
  },
  "language_info": {
   "codemirror_mode": {
    "name": "ipython",
    "version": 3
   },
   "file_extension": ".py",
   "mimetype": "text/x-python",
   "name": "python",
   "nbconvert_exporter": "python",
   "pygments_lexer": "ipython3",
   "version": "3.11.7"
  }
 },
 "nbformat": 4,
 "nbformat_minor": 5
}
