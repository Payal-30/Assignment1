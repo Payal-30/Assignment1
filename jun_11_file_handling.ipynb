{
 "cells": [
  {
   "cell_type": "code",
   "execution_count": 1,
   "id": "28e9bc06-d1b6-4246-be2e-e6e4c7f777f3",
   "metadata": {},
   "outputs": [],
   "source": [
    "f=open('abc.txt','r')"
   ]
  },
  {
   "cell_type": "code",
   "execution_count": 2,
   "id": "be3ee7f6-7f63-4169-8623-94003b4b2c65",
   "metadata": {},
   "outputs": [
    {
     "name": "stdout",
     "output_type": "stream",
     "text": [
      "abc.txt\n"
     ]
    }
   ],
   "source": [
    "print(f.name)"
   ]
  },
  {
   "cell_type": "code",
   "execution_count": 3,
   "id": "7d275016-b0b1-4cc0-9412-607270dd1c64",
   "metadata": {},
   "outputs": [
    {
     "name": "stdout",
     "output_type": "stream",
     "text": [
      "Payal shivaji jambhekar\n"
     ]
    }
   ],
   "source": [
    "print(f.read())"
   ]
  },
  {
   "cell_type": "code",
   "execution_count": 4,
   "id": "46e78e26-990b-4d6b-8227-ca7b20ac1091",
   "metadata": {},
   "outputs": [
    {
     "name": "stdout",
     "output_type": "stream",
     "text": [
      "r\n"
     ]
    }
   ],
   "source": [
    "print(f.mode)"
   ]
  },
  {
   "cell_type": "code",
   "execution_count": 5,
   "id": "c762c03b-4274-4204-b0cb-9e4a16dc6bd1",
   "metadata": {},
   "outputs": [],
   "source": [
    "f.close()"
   ]
  },
  {
   "cell_type": "code",
   "execution_count": 6,
   "id": "0b636dd0-248a-4edb-92c5-d31280538927",
   "metadata": {},
   "outputs": [
    {
     "data": {
      "text/plain": [
       "True"
      ]
     },
     "execution_count": 6,
     "metadata": {},
     "output_type": "execute_result"
    }
   ],
   "source": [
    "f.closed"
   ]
  },
  {
   "cell_type": "code",
   "execution_count": 12,
   "id": "b7a98d5e-8855-45a3-9e48-8310186955f9",
   "metadata": {},
   "outputs": [
    {
     "name": "stdout",
     "output_type": "stream",
     "text": [
      "Payal shivaji jambhekar \n"
     ]
    }
   ],
   "source": [
    "## open with conttext manager\n",
    "\n",
    "with open('abc.txt','r') as f:\n",
    "    content=f.read()\n",
    "    print(content)"
   ]
  },
  {
   "cell_type": "code",
   "execution_count": 9,
   "id": "81d56f62-bc85-4a8a-877f-404cdc5a244a",
   "metadata": {},
   "outputs": [
    {
     "data": {
      "text/plain": [
       "True"
      ]
     },
     "execution_count": 9,
     "metadata": {},
     "output_type": "execute_result"
    }
   ],
   "source": [
    "f.closed"
   ]
  },
  {
   "cell_type": "code",
   "execution_count": 24,
   "id": "259cb40c-b1fe-4bd5-8c02-93c856b2b611",
   "metadata": {},
   "outputs": [
    {
     "name": "stdout",
     "output_type": "stream",
     "text": [
      "this is first line.\n",
      "this is second line.\n",
      "this is third line.\n",
      "this is fourth line.\n"
     ]
    }
   ],
   "source": [
    "with open('xyz.txt','r') as p:\n",
    "    content=p.read()\n",
    "    print(content)"
   ]
  },
  {
   "cell_type": "code",
   "execution_count": 26,
   "id": "45ca26a6-3750-427e-a8f7-ab1dc151d0fe",
   "metadata": {},
   "outputs": [
    {
     "name": "stdout",
     "output_type": "stream",
     "text": [
      "this is first line.\n",
      "\n"
     ]
    }
   ],
   "source": [
    "with open('xyz.txt','r') as p:\n",
    "    content=p.readline()\n",
    "    print(content)"
   ]
  },
  {
   "cell_type": "code",
   "execution_count": 31,
   "id": "7b50f916-21ae-42fb-a067-b907e32764a6",
   "metadata": {},
   "outputs": [
    {
     "name": "stdout",
     "output_type": "stream",
     "text": [
      "this is first line.\n",
      "this is second line.\n",
      "this is third line.\n",
      "this is fourth line."
     ]
    }
   ],
   "source": [
    "## for loop to iterate over a file\n",
    "with open('xyz.txt','r') as f:\n",
    "    for line in f:\n",
    "        print(line, end='')"
   ]
  },
  {
   "cell_type": "code",
   "execution_count": 37,
   "id": "32a1c3c6-50c2-4f58-b355-c4ad34bd6711",
   "metadata": {},
   "outputs": [
    {
     "name": "stdout",
     "output_type": "stream",
     "text": [
      "thi\n"
     ]
    }
   ],
   "source": [
    "## read the 3 charcter\n",
    "\n",
    "with open('xyz.txt','r') as f:\n",
    "    content= f.read(3)\n",
    "    print(content)"
   ]
  },
  {
   "cell_type": "code",
   "execution_count": 41,
   "id": "ab7f86f9-b787-4730-b70a-7edad514867f",
   "metadata": {},
   "outputs": [
    {
     "name": "stdout",
     "output_type": "stream",
     "text": [
      "this *is fi*rst l*ine.\n",
      "*this *is se*cond *line.*\n",
      "this* is t*hird *line.*\n",
      "this* is f*ourth* line*.*"
     ]
    }
   ],
   "source": [
    "# use while loop to read entire file.. 5 charters at a time\n",
    "\n",
    "with open('xyz.txt','r') as f:\n",
    "    size=5\n",
    "    content= f.read(size)\n",
    "    while len(content)>0:\n",
    "        print(content, end='*')\n",
    "        content=f.read(size)"
   ]
  },
  {
   "cell_type": "code",
   "execution_count": 42,
   "id": "8f9e58c6-5612-4329-aafb-5cce49bad375",
   "metadata": {},
   "outputs": [
    {
     "name": "stdout",
     "output_type": "stream",
     "text": [
      "this \n",
      "this \n"
     ]
    }
   ],
   "source": [
    "# in the second phase from the start again\n",
    "\n",
    "with open('xyz.txt','r') as f:\n",
    "    size=5\n",
    "    content= f.read(size)\n",
    "    print(content)\n",
    "\n",
    "    f.seek(0)\n",
    "    \n",
    "    content=f.read(size)\n",
    "    print(content)"
   ]
  },
  {
   "cell_type": "code",
   "execution_count": 58,
   "id": "04491444-c429-46ab-bc90-01a3d42a717f",
   "metadata": {},
   "outputs": [
    {
     "ename": "ValueError",
     "evalue": "I/O operation on closed file.",
     "output_type": "error",
     "traceback": [
      "\u001b[1;31m---------------------------------------------------------------------------\u001b[0m",
      "\u001b[1;31mValueError\u001b[0m                                Traceback (most recent call last)",
      "Cell \u001b[1;32mIn[58], line 4\u001b[0m\n\u001b[0;32m      1\u001b[0m \u001b[38;5;66;03m## write\u001b[39;00m\n\u001b[0;32m      3\u001b[0m \u001b[38;5;28;01mwith\u001b[39;00m \u001b[38;5;28mopen\u001b[39m(\u001b[38;5;124m'\u001b[39m\u001b[38;5;124mwrite.txt\u001b[39m\u001b[38;5;124m'\u001b[39m,\u001b[38;5;124m'\u001b[39m\u001b[38;5;124mw\u001b[39m\u001b[38;5;124m'\u001b[39m) \u001b[38;5;28;01mas\u001b[39;00m p:\n\u001b[1;32m----> 4\u001b[0m     w\u001b[38;5;241m.\u001b[39mwrite(\u001b[38;5;124m'\u001b[39m\u001b[38;5;124mhello!!! I am learning python\u001b[39m\u001b[38;5;124m'\u001b[39m)\n",
      "\u001b[1;31mValueError\u001b[0m: I/O operation on closed file."
     ]
    }
   ],
   "source": [
    "## write\n",
    "\n",
    "with open('write.txt','w') as p:\n",
    "    w.write('hello!!! I am learning python')"
   ]
  },
  {
   "cell_type": "code",
   "execution_count": 59,
   "id": "3d2a96c5-50a4-40d2-b034-d406ceba9306",
   "metadata": {},
   "outputs": [
    {
     "name": "stdout",
     "output_type": "stream",
     "text": [
      "write.txt\n"
     ]
    }
   ],
   "source": [
    "print(p.name)"
   ]
  },
  {
   "cell_type": "code",
   "execution_count": 60,
   "id": "f2a77124-74e8-4fce-9bb1-79135e9acd73",
   "metadata": {},
   "outputs": [
    {
     "name": "stdout",
     "output_type": "stream",
     "text": [
      "<built-in method read of _io.TextIOWrapper object at 0x0000021735FCC380>\n"
     ]
    }
   ],
   "source": [
    "print(p.read)"
   ]
  },
  {
   "cell_type": "code",
   "execution_count": null,
   "id": "4faf5e5b-f2c5-4213-9432-d9cd16bcd1a9",
   "metadata": {},
   "outputs": [],
   "source": []
  },
  {
   "cell_type": "code",
   "execution_count": null,
   "id": "51c0a403-f380-47e1-8fe7-0dd36404633d",
   "metadata": {},
   "outputs": [],
   "source": []
  }
 ],
 "metadata": {
  "kernelspec": {
   "display_name": "Python 3 (ipykernel)",
   "language": "python",
   "name": "python3"
  },
  "language_info": {
   "codemirror_mode": {
    "name": "ipython",
    "version": 3
   },
   "file_extension": ".py",
   "mimetype": "text/x-python",
   "name": "python",
   "nbconvert_exporter": "python",
   "pygments_lexer": "ipython3",
   "version": "3.11.7"
  }
 },
 "nbformat": 4,
 "nbformat_minor": 5
}
