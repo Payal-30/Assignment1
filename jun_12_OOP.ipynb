{
 "cells": [
  {
   "cell_type": "code",
   "execution_count": 1,
   "id": "5c3853fb-b861-4d36-af23-8267162a9c63",
   "metadata": {},
   "outputs": [],
   "source": [
    "class Employee():       #creating class\n",
    "    pass"
   ]
  },
  {
   "cell_type": "code",
   "execution_count": 2,
   "id": "d60879b0-e0a9-4847-a424-5539db6d7ebf",
   "metadata": {},
   "outputs": [],
   "source": [
    "emp1 = Employee()      # creating instance of the class\n",
    "emp2 = Employee()"
   ]
  },
  {
   "cell_type": "code",
   "execution_count": 3,
   "id": "c0006db2-74ac-4f7c-a1b3-c78e6625b8cf",
   "metadata": {},
   "outputs": [
    {
     "name": "stdout",
     "output_type": "stream",
     "text": [
      "<__main__.Employee object at 0x0000020687FAB450>\n",
      "<__main__.Employee object at 0x0000020687FAA690>\n"
     ]
    }
   ],
   "source": [
    "print(emp1)\n",
    "print(emp2)"
   ]
  },
  {
   "cell_type": "code",
   "execution_count": 4,
   "id": "16eebd80-170d-4edc-bd7f-f4ec8ddf8c75",
   "metadata": {},
   "outputs": [],
   "source": [
    "# instance variables\n",
    "\n",
    "emp1.first = 'Payal'\n",
    "emp1.last = 'Jambhekar'\n",
    "emp1.salary = 50000\n",
    "\n",
    "emp2.first = 'Shreesha'\n",
    "emp2.last = 'Pathare'\n",
    "emp2.salary = 60000"
   ]
  },
  {
   "cell_type": "code",
   "execution_count": 5,
   "id": "f3621018-19d9-4ff1-acc8-6d7b13080bad",
   "metadata": {},
   "outputs": [
    {
     "name": "stdout",
     "output_type": "stream",
     "text": [
      "Payal\n"
     ]
    }
   ],
   "source": [
    "print(emp1.first)"
   ]
  },
  {
   "cell_type": "code",
   "execution_count": 6,
   "id": "e7dd08dc-9bfa-4e3b-bb85-3099b746c745",
   "metadata": {},
   "outputs": [
    {
     "name": "stdout",
     "output_type": "stream",
     "text": [
      "60000\n"
     ]
    }
   ],
   "source": [
    "print(emp2.salary)"
   ]
  },
  {
   "cell_type": "code",
   "execution_count": 7,
   "id": "83555fbf-67b4-4710-9a1f-25355023b528",
   "metadata": {},
   "outputs": [
    {
     "name": "stdout",
     "output_type": "stream",
     "text": [
      "Shreesha\n"
     ]
    }
   ],
   "source": [
    "print(emp2.first)"
   ]
  },
  {
   "cell_type": "code",
   "execution_count": 8,
   "id": "f94d9e79-b7d2-4789-887e-2951931ad69a",
   "metadata": {},
   "outputs": [
    {
     "name": "stdout",
     "output_type": "stream",
     "text": [
      "Jambhekar\n"
     ]
    }
   ],
   "source": [
    "print(emp1.last)"
   ]
  },
  {
   "cell_type": "code",
   "execution_count": 26,
   "id": "6f5109cd-d8f7-43e4-b549-d2e765ee237b",
   "metadata": {},
   "outputs": [],
   "source": [
    "class Employee():\n",
    "\n",
    "    def __init__ (self , first , last , salary):    # self doing same work as this keyword\n",
    "        self.first = first\n",
    "        self.last = last\n",
    "        self.salary = salary\n",
    "\n",
    "    def show(self):\n",
    "        print(self.first + ' ' + 'OK')"
   ]
  },
  {
   "cell_type": "code",
   "execution_count": 29,
   "id": "8a4b227b-2303-4195-8075-67ebc4d6b606",
   "metadata": {},
   "outputs": [],
   "source": [
    "emp1 = Employee('Raj','Thakare',55000)"
   ]
  },
  {
   "cell_type": "code",
   "execution_count": 30,
   "id": "4beabae5-96d2-4975-bc7e-1e573e35599c",
   "metadata": {},
   "outputs": [
    {
     "name": "stdout",
     "output_type": "stream",
     "text": [
      "Raj\n"
     ]
    }
   ],
   "source": [
    "print(emp1.first)"
   ]
  },
  {
   "cell_type": "code",
   "execution_count": 31,
   "id": "8b437fef-71a2-4784-bfe2-a1a435f78dcf",
   "metadata": {},
   "outputs": [],
   "source": [
    "emp2 = Employee('suhaani','Pawar',45000)"
   ]
  },
  {
   "cell_type": "code",
   "execution_count": 32,
   "id": "5ef36cbe-f57d-4322-b438-c4b503f36467",
   "metadata": {},
   "outputs": [
    {
     "name": "stdout",
     "output_type": "stream",
     "text": [
      "Pawar\n"
     ]
    }
   ],
   "source": [
    "print(emp2.last)"
   ]
  },
  {
   "cell_type": "code",
   "execution_count": 33,
   "id": "9ca9ea33-b3ca-4e77-bfd2-10d81c52f9a4",
   "metadata": {},
   "outputs": [
    {
     "name": "stdout",
     "output_type": "stream",
     "text": [
      "Raj OK\n"
     ]
    }
   ],
   "source": [
    "emp1.show()"
   ]
  },
  {
   "cell_type": "code",
   "execution_count": 34,
   "id": "be294522-9a83-4dbb-883f-c4175c01ddde",
   "metadata": {},
   "outputs": [
    {
     "name": "stdout",
     "output_type": "stream",
     "text": [
      "suhaani OK\n"
     ]
    }
   ],
   "source": [
    "emp2.show()"
   ]
  },
  {
   "cell_type": "code",
   "execution_count": 35,
   "id": "7ea73598-6eb6-4ca0-b04a-99fa45674460",
   "metadata": {},
   "outputs": [],
   "source": [
    "# Encapsulation"
   ]
  },
  {
   "cell_type": "code",
   "execution_count": 70,
   "id": "aaa24c35-4a50-4e62-804b-a2dcfc26d318",
   "metadata": {},
   "outputs": [],
   "source": [
    "class Employee1():\n",
    "\n",
    "    def __init__ (self , first , last , salary):    # self doing same work as this keyword\n",
    "        self.first = first\n",
    "        self.last = last\n",
    "        self.__salary = salary   # private variable\n",
    "\n",
    "    def show(self):\n",
    "        print(self.__salary)"
   ]
  },
  {
   "cell_type": "code",
   "execution_count": 71,
   "id": "cb2872a9-554c-48b0-b271-c01a47e40c15",
   "metadata": {},
   "outputs": [],
   "source": [
    "emp3 = Employee1('Payal','Jambhekar',87000)"
   ]
  },
  {
   "cell_type": "code",
   "execution_count": 72,
   "id": "d06be37c-ada8-44f2-b212-3b4b6abdf567",
   "metadata": {},
   "outputs": [],
   "source": [
    "emp4 = Employee1('Sonal','Pathare',67000)"
   ]
  },
  {
   "cell_type": "code",
   "execution_count": 73,
   "id": "ce6ff9d8-eab1-4fbb-b09d-173cd5053e18",
   "metadata": {},
   "outputs": [
    {
     "name": "stdout",
     "output_type": "stream",
     "text": [
      "Payal\n"
     ]
    }
   ],
   "source": [
    "print(emp3.first)"
   ]
  },
  {
   "cell_type": "code",
   "execution_count": 74,
   "id": "cd57b978-d18a-4420-af96-2469622319e9",
   "metadata": {},
   "outputs": [
    {
     "ename": "AttributeError",
     "evalue": "'Employee1' object has no attribute 'salary'",
     "output_type": "error",
     "traceback": [
      "\u001b[1;31m---------------------------------------------------------------------------\u001b[0m",
      "\u001b[1;31mAttributeError\u001b[0m                            Traceback (most recent call last)",
      "Cell \u001b[1;32mIn[74], line 1\u001b[0m\n\u001b[1;32m----> 1\u001b[0m \u001b[38;5;28mprint\u001b[39m(emp4\u001b[38;5;241m.\u001b[39msalary)\n",
      "\u001b[1;31mAttributeError\u001b[0m: 'Employee1' object has no attribute 'salary'"
     ]
    }
   ],
   "source": [
    "print(emp4.salary)"
   ]
  },
  {
   "cell_type": "code",
   "execution_count": 75,
   "id": "b119770b-aaa5-4203-bcdf-a114f76d207b",
   "metadata": {},
   "outputs": [
    {
     "name": "stdout",
     "output_type": "stream",
     "text": [
      "87000\n"
     ]
    }
   ],
   "source": [
    "emp3.show()"
   ]
  },
  {
   "cell_type": "code",
   "execution_count": 76,
   "id": "538a931f-cabb-42a6-82c7-d520640f5bea",
   "metadata": {},
   "outputs": [],
   "source": [
    "# Inheritance"
   ]
  },
  {
   "cell_type": "code",
   "execution_count": 77,
   "id": "55864660-3294-4b63-8854-8e3cee8f3109",
   "metadata": {},
   "outputs": [],
   "source": [
    "class Employee2(Employee1):   # Employee2=> subclass, employee1=>superclass\n",
    "    pass"
   ]
  },
  {
   "cell_type": "code",
   "execution_count": 78,
   "id": "6279a23b-a7a2-40c9-b4a4-0064a28c2f46",
   "metadata": {},
   "outputs": [],
   "source": [
    "e2 = Employee2('Sarthak','Salke',68000)"
   ]
  },
  {
   "cell_type": "code",
   "execution_count": 79,
   "id": "3649abbb-06e9-4fb6-9594-ce0d9d2da1b5",
   "metadata": {},
   "outputs": [
    {
     "name": "stdout",
     "output_type": "stream",
     "text": [
      "68000\n"
     ]
    }
   ],
   "source": [
    "e2.show()"
   ]
  },
  {
   "cell_type": "code",
   "execution_count": 108,
   "id": "4cedd4c4-4ebf-4998-960d-bfbe6e6417dd",
   "metadata": {},
   "outputs": [],
   "source": [
    "class person():\n",
    "    def __init__ (self,id,first,last,salary,a=90):\n",
    "        self.id=id\n",
    "        self.first=first\n",
    "        self.last=last\n",
    "        self.salary=salary\n",
    "        self.age=a\n",
    "\n",
    "    def show(self):\n",
    "        print('id=',self.id)\n",
    "        print('first=',self.first)\n",
    "        print('last=',self.last)\n",
    "        print('salary=',self.salary)\n",
    "        print('age=', self.age)"
   ]
  },
  {
   "cell_type": "code",
   "execution_count": 109,
   "id": "9bdaeb2e-4535-48d0-98e1-959b473cef60",
   "metadata": {},
   "outputs": [],
   "source": [
    "e1= person(23,'kirti','kotwal',67000,78)"
   ]
  },
  {
   "cell_type": "code",
   "execution_count": 110,
   "id": "c06a1352-b7b4-40db-980d-e5599ddc490b",
   "metadata": {},
   "outputs": [],
   "source": [
    "e2= person(16,'sakshi','sali',45000)"
   ]
  },
  {
   "cell_type": "code",
   "execution_count": 111,
   "id": "ddf45753-4aea-4f9b-8888-0799f2f334d6",
   "metadata": {},
   "outputs": [
    {
     "name": "stdout",
     "output_type": "stream",
     "text": [
      "id= 23\n",
      "first= kirti\n",
      "last= kotwal\n",
      "salary= 67000\n",
      "age= 78\n"
     ]
    }
   ],
   "source": [
    "e1.show()"
   ]
  },
  {
   "cell_type": "code",
   "execution_count": 97,
   "id": "27c1036d-b764-4947-90d9-b97dc99e7bef",
   "metadata": {},
   "outputs": [
    {
     "name": "stdout",
     "output_type": "stream",
     "text": [
      "67000\n"
     ]
    }
   ],
   "source": [
    "print(e1.salary)"
   ]
  },
  {
   "cell_type": "code",
   "execution_count": 112,
   "id": "0a2969e6-7948-45df-9566-18461616f431",
   "metadata": {},
   "outputs": [
    {
     "name": "stdout",
     "output_type": "stream",
     "text": [
      "id= 16\n",
      "first= sakshi\n",
      "last= sali\n",
      "salary= 45000\n",
      "age= 90\n"
     ]
    }
   ],
   "source": [
    "e2.show()"
   ]
  },
  {
   "cell_type": "code",
   "execution_count": null,
   "id": "233044ef-4b19-41c3-9024-00717b21f2d0",
   "metadata": {},
   "outputs": [],
   "source": []
  }
 ],
 "metadata": {
  "kernelspec": {
   "display_name": "Python 3 (ipykernel)",
   "language": "python",
   "name": "python3"
  },
  "language_info": {
   "codemirror_mode": {
    "name": "ipython",
    "version": 3
   },
   "file_extension": ".py",
   "mimetype": "text/x-python",
   "name": "python",
   "nbconvert_exporter": "python",
   "pygments_lexer": "ipython3",
   "version": "3.11.7"
  }
 },
 "nbformat": 4,
 "nbformat_minor": 5
}
