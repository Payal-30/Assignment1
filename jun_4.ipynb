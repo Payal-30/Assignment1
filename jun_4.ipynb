{
 "cells": [
  {
   "cell_type": "code",
   "execution_count": 2,
   "id": "5e5fecdb-7a6e-4c08-ac29-cb52fb126a7c",
   "metadata": {},
   "outputs": [
    {
     "name": "stdout",
     "output_type": "stream",
     "text": [
      "Hello world\n"
     ]
    }
   ],
   "source": [
    "print (\"Hello world\")"
   ]
  },
  {
   "cell_type": "code",
   "execution_count": 3,
   "id": "9b40ff51-e63a-4b5a-b500-f5c81c206dd1",
   "metadata": {},
   "outputs": [
    {
     "data": {
      "text/plain": [
       "'payal'"
      ]
     },
     "execution_count": 3,
     "metadata": {},
     "output_type": "execute_result"
    }
   ],
   "source": [
    "data='Payal'\n",
    "data.lower()"
   ]
  },
  {
   "cell_type": "code",
   "execution_count": 5,
   "id": "4a0ddf4a-c589-41b8-9115-aec6ac892fe7",
   "metadata": {},
   "outputs": [
    {
     "data": {
      "text/plain": [
       "'PAYAL'"
      ]
     },
     "execution_count": 5,
     "metadata": {},
     "output_type": "execute_result"
    }
   ],
   "source": [
    "data.upper()"
   ]
  },
  {
   "cell_type": "code",
   "execution_count": 11,
   "id": "322c846e-ef90-4f1e-94fc-df4578ae6864",
   "metadata": {},
   "outputs": [
    {
     "name": "stdout",
     "output_type": "stream",
     "text": [
      "It is greater than 50\n"
     ]
    }
   ],
   "source": [
    "n=90\n",
    "if (n>50):\n",
    "    print('It is greater than 50')\n",
    "else:\n",
    "    print(\"it is smaller than 50\")"
   ]
  },
  {
   "cell_type": "code",
   "execution_count": 15,
   "id": "1a216607-ec91-406e-9b44-c4906a2e8d41",
   "metadata": {},
   "outputs": [
    {
     "name": "stdin",
     "output_type": "stream",
     "text": [
      "enter number: 0\n"
     ]
    },
    {
     "name": "stdout",
     "output_type": "stream",
     "text": [
      "it is negative\n"
     ]
    }
   ],
   "source": [
    "n=int(input(\"enter number:\"))\n",
    "if n>0:\n",
    "    print('it is positive')\n",
    "else:\n",
    "    print(\"it is negative\")"
   ]
  },
  {
   "cell_type": "code",
   "execution_count": 16,
   "id": "212da06f-eeff-4267-87f8-f4e1aa767558",
   "metadata": {},
   "outputs": [
    {
     "name": "stdin",
     "output_type": "stream",
     "text": [
      "enter number 0\n"
     ]
    },
    {
     "name": "stdout",
     "output_type": "stream",
     "text": [
      "zero\n"
     ]
    }
   ],
   "source": [
    "n=int(input('enter number'))\n",
    "if n>0:\n",
    "    print(\"positive\")\n",
    "elif n==0:\n",
    "    print(\"zero\")\n",
    "else:\n",
    "    print(\"negative\")"
   ]
  },
  {
   "cell_type": "code",
   "execution_count": 34,
   "id": "b876e492-1a1c-40cd-8e08-64863d1e071d",
   "metadata": {},
   "outputs": [
    {
     "name": "stdout",
     "output_type": "stream",
     "text": [
      "profit: 2000\n"
     ]
    }
   ],
   "source": [
    "purches=5000\n",
    "selling=7000\n",
    "if selling>purches:\n",
    "    print('profit:',selling-purches)\n",
    "else:\n",
    "    print('loss:',purches-selling)\n"
   ]
  },
  {
   "cell_type": "code",
   "execution_count": 36,
   "id": "3cf20945-f2c0-47e4-a7e7-3e5b44b57798",
   "metadata": {},
   "outputs": [
    {
     "name": "stdin",
     "output_type": "stream",
     "text": [
      "enter first number: 1\n",
      "enter second number: 2\n",
      "enter third number: 3\n"
     ]
    },
    {
     "name": "stdout",
     "output_type": "stream",
     "text": [
      "c is greater\n"
     ]
    }
   ],
   "source": [
    "a=int(input('enter first number:'))\n",
    "b=int(input('enter second number:'))\n",
    "c=int(input('enter third number:'))\n",
    "if a>b:\n",
    "    if a>c:\n",
    "        print('a is greater')\n",
    "    else: \n",
    "        print('c is greater')\n",
    "else :\n",
    "    if b>c:\n",
    "       print('b is greater')\n",
    "    else:\n",
    "        print('c is greater')"
   ]
  },
  {
   "cell_type": "code",
   "execution_count": 47,
   "id": "d3ffedd4-fb29-42dd-a5aa-45a21bd2ee05",
   "metadata": {},
   "outputs": [
    {
     "name": "stdin",
     "output_type": "stream",
     "text": [
      "enter year: 2015\n"
     ]
    },
    {
     "name": "stdout",
     "output_type": "stream",
     "text": [
      "not leap\n"
     ]
    }
   ],
   "source": [
    "year=int(input('enter year:'))\n",
    "if year%4==0:\n",
    "    if year%100==0:\n",
    "        if year%400==0:\n",
    "            print('leap centyary year')\n",
    "        else:\n",
    "            print('centuary but not leap')\n",
    "    else:\n",
    "        print('leap')\n",
    "else:\n",
    "    print('not leap')"
   ]
  },
  {
   "cell_type": "code",
   "execution_count": 53,
   "id": "c61e18a1-6989-43ed-8736-9235ff28ebc2",
   "metadata": {},
   "outputs": [
    {
     "name": "stdin",
     "output_type": "stream",
     "text": [
      "enter marks: 87\n"
     ]
    },
    {
     "name": "stdout",
     "output_type": "stream",
     "text": [
      "first class\n"
     ]
    }
   ],
   "source": [
    "marks=int(input('enter marks:'))\n",
    "if marks>=60:\n",
    "    print('first class')\n",
    "elif marks>=50 :\n",
    "    print('second class')\n",
    "elif marks>=40 and marks<50:\n",
    "    print('third class')\n",
    "elif marks<=35:\n",
    "    print('pass')\n",
    "else:\n",
    "    print('fail')"
   ]
  },
  {
   "cell_type": "code",
   "execution_count": 60,
   "id": "6929dbad-aa26-43b9-bac0-2918ade1e3a1",
   "metadata": {},
   "outputs": [
    {
     "name": "stdin",
     "output_type": "stream",
     "text": [
      "enter the number: 6\n"
     ]
    },
    {
     "name": "stdout",
     "output_type": "stream",
     "text": [
      "MENU: \n",
      "1: Square \n",
      "2:Cube \n",
      "3:Positive or Negative\n"
     ]
    },
    {
     "name": "stdin",
     "output_type": "stream",
     "text": [
      "enter the choice: 3\n"
     ]
    },
    {
     "name": "stdout",
     "output_type": "stream",
     "text": [
      "Positive\n"
     ]
    }
   ],
   "source": [
    "num=int(input('enter the number:'))\n",
    "print(\"MENU: \\n1: Square \\n2:Cube \\n3:Positive or Negative\")\n",
    "choice=int(input('enter the choice:'))\n",
    "if choice==1:\n",
    "    print('Square is:',num*num)\n",
    "elif choice==2:\n",
    "    print('Cube is:',num*num*num)\n",
    "elif choice==3:\n",
    "   if num>0:\n",
    "       print('Positive')\n",
    "   else:\n",
    "    print('Negative')\n",
    "else:\n",
    "    print('wrong choice')\n"
   ]
  },
  {
   "cell_type": "code",
   "execution_count": 62,
   "id": "5e62f465-d448-4ebc-9e3b-025fc2eae3b6",
   "metadata": {},
   "outputs": [
    {
     "name": "stdin",
     "output_type": "stream",
     "text": [
      "enter the first number: 25\n",
      "enter the second number: 5\n"
     ]
    },
    {
     "name": "stdout",
     "output_type": "stream",
     "text": [
      "MENU: \n",
      "1: Addition \n",
      "2:Subtraction \n",
      "3:floor division \n",
      "4:which is greater\n"
     ]
    },
    {
     "name": "stdin",
     "output_type": "stream",
     "text": [
      "enter the choice: 3\n"
     ]
    },
    {
     "name": "stdout",
     "output_type": "stream",
     "text": [
      "floor division is: 5.0\n"
     ]
    }
   ],
   "source": [
    "num=int(input('enter the first number:'))\n",
    "num1=int(input('enter the second number:'))\n",
    "print(\"MENU: \\n1: Addition \\n2:Subtraction \\n3:floor division \\n4:which is greater\")\n",
    "choice=int(input('enter the choice:'))\n",
    "if choice==1:\n",
    "    print('Addition is:',num+num1)\n",
    "elif choice==2:\n",
    "    print('Subtraction is:',num-num1)\n",
    "elif choice==3:\n",
    "   print('floor division is:',num/num1)\n",
    "elif choice==4:\n",
    "    if num>num1:\n",
    "        print('num is greater')\n",
    "    else:\n",
    "        print('num1 is greater')\n",
    "else:\n",
    "    print('wrong choice')"
   ]
  },
  {
   "cell_type": "code",
   "execution_count": null,
   "id": "7ee1168e-8320-402d-b431-e79f0f2defa0",
   "metadata": {},
   "outputs": [],
   "source": []
  }
 ],
 "metadata": {
  "kernelspec": {
   "display_name": "Python 3 (ipykernel)",
   "language": "python",
   "name": "python3"
  },
  "language_info": {
   "codemirror_mode": {
    "name": "ipython",
    "version": 3
   },
   "file_extension": ".py",
   "mimetype": "text/x-python",
   "name": "python",
   "nbconvert_exporter": "python",
   "pygments_lexer": "ipython3",
   "version": "3.11.7"
  }
 },
 "nbformat": 4,
 "nbformat_minor": 5
}
